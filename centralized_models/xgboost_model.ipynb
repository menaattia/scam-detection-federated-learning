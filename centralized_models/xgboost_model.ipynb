{
  "cells": [
    {
      "cell_type": "markdown",
      "metadata": {},
      "source": [
        "# XGBoost Model"
      ]
    },
    {
      "cell_type": "code",
      "execution_count": null,
      "metadata": {
        "id": "ChsNnbndX_l4"
      },
      "outputs": [],
      "source": [
        "import pandas as pd\n",
        "import numpy as np\n",
        "from sklearn.model_selection import train_test_split\n",
        "from sklearn.feature_extraction.text import TfidfVectorizer\n",
        "from sklearn.svm import SVC\n",
        "from sklearn.metrics import accuracy_score, classification_report\n",
        "\n",
        "# First dataset\n",
        "train_df = pd.read_csv(\"processed_train.csv\")\n",
        "test_df = pd.read_csv(\"processed_test.csv\")\n",
        "\n",
        "# Second dataset\n",
        "train_df1 = pd.read_csv(\"processed_train1.csv\")\n",
        "test_df1 = pd.read_csv(\"processed_test1.csv\")\n",
        "\n",
        "# Combined dataset\n",
        "train_df2 = pd.read_csv(\"combined_processed_train.csv\")\n",
        "test_df2 = pd.read_csv(\"combined_processed_test.csv\")\n",
        "\n",
        "# Eval dataset\n",
        "test_df3 = pd.read_csv(\"scam_dataset_eval_processed.csv\")\n",
        "\n",
        "\n",
        "\n",
        "# Convert text into numerical features using TF-IDF\n",
        "vectorizer = TfidfVectorizer()\n",
        "\n",
        "X_train1 = vectorizer.fit_transform(train_df1['text'])\n",
        "\n",
        "# X_train = vectorizer.fit_transform(train_df['text'])\n",
        "X_test = vectorizer.transform(test_df['text'])\n",
        "\n",
        "\n",
        "X_test1 = vectorizer.transform(test_df1['text'])\n",
        "\n",
        "# X_train2 = vectorizer.fit_transform(train_df2['text'])\n",
        "X_test2 = vectorizer.transform(test_df2['text'])\n",
        "\n",
        "X_test3 = vectorizer.transform(test_df3['text'])\n",
        "\n",
        "\n",
        "\n",
        "y_train = train_df['label']\n",
        "y_test = test_df['label']\n",
        "\n",
        "y_train1 = train_df1['label']\n",
        "y_test1 = test_df1['label']\n",
        "\n",
        "y_train2 = train_df2['label']\n",
        "y_test2 = test_df2['label']\n",
        "\n",
        "y_test3 = test_df3['label']"
      ]
    },
    {
      "cell_type": "code",
      "execution_count": null,
      "metadata": {
        "id": "yg8bJ7LwmLCC"
      },
      "outputs": [],
      "source": [
        "# # Train an SVM model\n",
        "# svm_model = SVC()\n",
        "# svm_model.fit(X_train_tfidf, train_df['label'])\n",
        "\n",
        "# # Make predictions\n",
        "# y_pred = svm_model.predict(X_test_tfidf)\n",
        "\n",
        "# # Evaluate the model\n",
        "# accuracy = accuracy_score(test_df['label'], y_pred)\n",
        "# print(f'Accuracy: {accuracy:.2f}')\n",
        "# print('Classification Report:')\n",
        "# print(classification_report(test_df['label'], y_pred))"
      ]
    },
    {
      "cell_type": "code",
      "execution_count": null,
      "metadata": {
        "colab": {
          "base_uri": "https://localhost:8080/"
        },
        "id": "u11mlUbACS9K",
        "outputId": "d51b5495-d697-4255-b677-0f304e4b1901"
      },
      "outputs": [
        {
          "data": {
            "text/plain": [
              "<Compressed Sparse Row sparse matrix of dtype 'float64'\n",
              "\twith 36309 stored elements and shape (3200, 4049)>"
            ]
          },
          "execution_count": 18,
          "metadata": {},
          "output_type": "execute_result"
        }
      ],
      "source": [
        "X_train1"
      ]
    },
    {
      "cell_type": "code",
      "execution_count": null,
      "metadata": {
        "colab": {
          "base_uri": "https://localhost:8080/"
        },
        "id": "02RPoxH9CVkU",
        "outputId": "9f0fa076-8e28-4e79-f81a-dd27294090ff"
      },
      "outputs": [
        {
          "data": {
            "text/plain": [
              "<Compressed Sparse Row sparse matrix of dtype 'float64'\n",
              "\twith 113270 stored elements and shape (1280, 3205)>"
            ]
          },
          "execution_count": 19,
          "metadata": {},
          "output_type": "execute_result"
        }
      ],
      "source": [
        "X_train"
      ]
    },
    {
      "cell_type": "code",
      "execution_count": null,
      "metadata": {
        "colab": {
          "base_uri": "https://localhost:8080/"
        },
        "id": "i2Ui1d6skqRl",
        "outputId": "6018d276-2b8b-45f6-a40f-efa6a90697f4"
      },
      "outputs": [
        {
          "name": "stdout",
          "output_type": "stream",
          "text": [
            "Accuracy: 0.9594594594594594\n",
            "Classification Report:\n",
            "              precision    recall  f1-score   support\n",
            "\n",
            "           0       0.93      1.00      0.96        74\n",
            "           1       1.00      0.92      0.96        74\n",
            "\n",
            "    accuracy                           0.96       148\n",
            "   macro avg       0.96      0.96      0.96       148\n",
            "weighted avg       0.96      0.96      0.96       148\n",
            "\n"
          ]
        }
      ],
      "source": [
        "import xgboost as xgb\n",
        "\n",
        "# Train XGBoost model\n",
        "model = xgb.XGBClassifier(eval_metric='logloss')\n",
        "model.fit(X_train1, y_train1)\n",
        "\n",
        "# Predict and evaluate\n",
        "y_pred = model.predict(X_test3)\n",
        "print(\"Accuracy:\", accuracy_score(y_test3, y_pred))\n",
        "print('Classification Report:')\n",
        "print(classification_report(y_test3, y_pred))"
      ]
    },
    {
      "cell_type": "code",
      "execution_count": null,
      "metadata": {
        "colab": {
          "base_uri": "https://localhost:8080/"
        },
        "id": "gc2ckVjCHdm-",
        "outputId": "8461c4b4-6ddb-4763-a4d7-539a809fd553"
      },
      "outputs": [
        {
          "name": "stdout",
          "output_type": "stream",
          "text": [
            "Collecting optuna\n",
            "  Downloading optuna-4.3.0-py3-none-any.whl.metadata (17 kB)\n",
            "Collecting alembic>=1.5.0 (from optuna)\n",
            "  Downloading alembic-1.15.2-py3-none-any.whl.metadata (7.3 kB)\n",
            "Collecting colorlog (from optuna)\n",
            "  Downloading colorlog-6.9.0-py3-none-any.whl.metadata (10 kB)\n",
            "Requirement already satisfied: numpy in /usr/local/lib/python3.11/dist-packages (from optuna) (2.0.2)\n",
            "Requirement already satisfied: packaging>=20.0 in /usr/local/lib/python3.11/dist-packages (from optuna) (24.2)\n",
            "Requirement already satisfied: sqlalchemy>=1.4.2 in /usr/local/lib/python3.11/dist-packages (from optuna) (2.0.40)\n",
            "Requirement already satisfied: tqdm in /usr/local/lib/python3.11/dist-packages (from optuna) (4.67.1)\n",
            "Requirement already satisfied: PyYAML in /usr/local/lib/python3.11/dist-packages (from optuna) (6.0.2)\n",
            "Requirement already satisfied: Mako in /usr/lib/python3/dist-packages (from alembic>=1.5.0->optuna) (1.1.3)\n",
            "Requirement already satisfied: typing-extensions>=4.12 in /usr/local/lib/python3.11/dist-packages (from alembic>=1.5.0->optuna) (4.13.2)\n",
            "Requirement already satisfied: greenlet>=1 in /usr/local/lib/python3.11/dist-packages (from sqlalchemy>=1.4.2->optuna) (3.2.0)\n",
            "Downloading optuna-4.3.0-py3-none-any.whl (386 kB)\n",
            "\u001b[2K   \u001b[90m━━━━━━━━━━━━━━━━━━━━━━━━━━━━━━━━━━━━━━━━\u001b[0m \u001b[32m386.6/386.6 kB\u001b[0m \u001b[31m8.2 MB/s\u001b[0m eta \u001b[36m0:00:00\u001b[0m\n",
            "\u001b[?25hDownloading alembic-1.15.2-py3-none-any.whl (231 kB)\n",
            "\u001b[2K   \u001b[90m━━━━━━━━━━━━━━━━━━━━━━━━━━━━━━━━━━━━━━━━\u001b[0m \u001b[32m231.9/231.9 kB\u001b[0m \u001b[31m15.2 MB/s\u001b[0m eta \u001b[36m0:00:00\u001b[0m\n",
            "\u001b[?25hDownloading colorlog-6.9.0-py3-none-any.whl (11 kB)\n",
            "Installing collected packages: colorlog, alembic, optuna\n",
            "Successfully installed alembic-1.15.2 colorlog-6.9.0 optuna-4.3.0\n"
          ]
        }
      ],
      "source": [
        "!pip install optuna"
      ]
    },
    {
      "cell_type": "code",
      "execution_count": null,
      "metadata": {
        "colab": {
          "base_uri": "https://localhost:8080/"
        },
        "id": "m5Rn0LMiGwp6",
        "outputId": "4bf8e811-bda5-45ac-a2fd-90f0a355d1a2"
      },
      "outputs": [
        {
          "name": "stderr",
          "output_type": "stream",
          "text": [
            "[I 2025-04-23 03:13:30,836] A new study created in memory with name: no-name-cc0c5160-cf42-47f4-8f54-c99126377e76\n",
            "[I 2025-04-23 03:13:43,126] Trial 0 finished with value: 0.93125 and parameters: {'max_depth': 3, 'learning_rate': 0.0001, 'n_estimators': 95, 'subsample': 0.5563087480370892, 'colsample_bytree': 0.700920616837081, 'gamma': 0.11351597719353512, 'lambda': 0.01578407018891157, 'alpha': 0.019811284531855572}. Best is trial 0 with value: 0.93125.\n",
            "[I 2025-04-23 03:13:56,112] Trial 1 finished with value: 0.9625 and parameters: {'max_depth': 7, 'learning_rate': 0.0001, 'n_estimators': 141, 'subsample': 0.9653861927047087, 'colsample_bytree': 0.5661610378030706, 'gamma': 2.2745840669727673, 'lambda': 0.1810908027164429, 'alpha': 0.4217654452881756}. Best is trial 1 with value: 0.9625.\n",
            "[I 2025-04-23 03:14:13,062] Trial 2 finished with value: 0.96125 and parameters: {'max_depth': 7, 'learning_rate': 0.001, 'n_estimators': 195, 'subsample': 0.8924546737840724, 'colsample_bytree': 0.5193637904862809, 'gamma': 3.1094503286251234, 'lambda': 2.8735217879165855, 'alpha': 0.8365649108476023}. Best is trial 1 with value: 0.9625.\n",
            "[I 2025-04-23 03:14:23,114] Trial 3 finished with value: 0.935 and parameters: {'max_depth': 4, 'learning_rate': 0.0001, 'n_estimators': 114, 'subsample': 0.7168087977474129, 'colsample_bytree': 0.8526641578407428, 'gamma': 1.2908116070701077, 'lambda': 0.02103249761095619, 'alpha': 0.0038815593142399406}. Best is trial 1 with value: 0.9625.\n",
            "[I 2025-04-23 03:14:39,207] Trial 4 finished with value: 0.94625 and parameters: {'max_depth': 4, 'learning_rate': 0.01, 'n_estimators': 201, 'subsample': 0.672646210506752, 'colsample_bytree': 0.731284663296051, 'gamma': 3.62737439537413, 'lambda': 0.5951062856125198, 'alpha': 0.12385144350463571}. Best is trial 1 with value: 0.9625.\n",
            "[I 2025-04-23 03:15:02,893] Trial 5 finished with value: 0.87125 and parameters: {'max_depth': 3, 'learning_rate': 0.001, 'n_estimators': 282, 'subsample': 0.6962783506775281, 'colsample_bytree': 0.8669190289993514, 'gamma': 3.5565653566930395, 'lambda': 0.007892056565879955, 'alpha': 0.007030083600525092}. Best is trial 1 with value: 0.9625.\n",
            "[I 2025-04-23 03:15:16,082] Trial 6 finished with value: 0.95125 and parameters: {'max_depth': 9, 'learning_rate': 0.001, 'n_estimators': 108, 'subsample': 0.9095175167005121, 'colsample_bytree': 0.893036117768345, 'gamma': 4.072368575245735, 'lambda': 0.035114760864586585, 'alpha': 0.5068738124431424}. Best is trial 1 with value: 0.9625.\n",
            "[I 2025-04-23 03:15:32,589] Trial 7 finished with value: 0.9525 and parameters: {'max_depth': 4, 'learning_rate': 0.01, 'n_estimators': 206, 'subsample': 0.5675496528427078, 'colsample_bytree': 0.7197571841531576, 'gamma': 0.22645323235170378, 'lambda': 0.019727604330262914, 'alpha': 0.006041184031775502}. Best is trial 1 with value: 0.9625.\n",
            "[I 2025-04-23 03:15:46,857] Trial 8 finished with value: 0.94125 and parameters: {'max_depth': 3, 'learning_rate': 0.0001, 'n_estimators': 188, 'subsample': 0.9002961700246619, 'colsample_bytree': 0.5711341985225418, 'gamma': 3.4695891157573238, 'lambda': 0.006344855449961475, 'alpha': 0.03410346689639192}. Best is trial 1 with value: 0.9625.\n",
            "[I 2025-04-23 03:15:54,075] Trial 9 finished with value: 0.93375 and parameters: {'max_depth': 3, 'learning_rate': 0.01, 'n_estimators': 80, 'subsample': 0.5246628801012598, 'colsample_bytree': 0.663736757383691, 'gamma': 2.2107377540105837, 'lambda': 0.45965743529261893, 'alpha': 0.001814992703172205}. Best is trial 1 with value: 0.9625.\n",
            "[I 2025-04-23 03:16:07,506] Trial 10 finished with value: 0.95125 and parameters: {'max_depth': 7, 'learning_rate': 0.0001, 'n_estimators': 146, 'subsample': 0.808324334921491, 'colsample_bytree': 0.6118156618089374, 'gamma': 4.845767220557317, 'lambda': 8.878766126489703, 'alpha': 9.828558236806353}. Best is trial 1 with value: 0.9625.\n",
            "[I 2025-04-23 03:16:28,324] Trial 11 finished with value: 0.9625 and parameters: {'max_depth': 7, 'learning_rate': 0.001, 'n_estimators': 247, 'subsample': 0.9961407813290003, 'colsample_bytree': 0.5167003464744306, 'gamma': 2.2661796717917935, 'lambda': 8.743517025051636, 'alpha': 1.4426969382415042}. Best is trial 1 with value: 0.9625.\n",
            "[I 2025-04-23 03:16:54,723] Trial 12 finished with value: 0.965 and parameters: {'max_depth': 9, 'learning_rate': 0.001, 'n_estimators': 267, 'subsample': 0.9987024247394392, 'colsample_bytree': 0.5427911753486078, 'gamma': 2.0060233261974814, 'lambda': 0.0011259661714941216, 'alpha': 2.702839362829998}. Best is trial 12 with value: 0.965.\n",
            "[I 2025-04-23 03:17:11,784] Trial 13 finished with value: 0.965 and parameters: {'max_depth': 10, 'learning_rate': 0.0001, 'n_estimators': 148, 'subsample': 0.9996571022633112, 'colsample_bytree': 0.5970116406374686, 'gamma': 1.2695760815623893, 'lambda': 0.0013534483249194459, 'alpha': 6.330843227916745}. Best is trial 12 with value: 0.965.\n",
            "[I 2025-04-23 03:17:16,523] Trial 14 finished with value: 0.9525 and parameters: {'max_depth': 10, 'learning_rate': 0.001, 'n_estimators': 52, 'subsample': 0.8050269147285559, 'colsample_bytree': 0.6340273757007715, 'gamma': 1.3350637654678739, 'lambda': 0.001054870266675528, 'alpha': 8.546012136098199}. Best is trial 12 with value: 0.965.\n",
            "[I 2025-04-23 03:17:51,756] Trial 15 finished with value: 0.95125 and parameters: {'max_depth': 9, 'learning_rate': 0.0001, 'n_estimators': 295, 'subsample': 0.9568494058098942, 'colsample_bytree': 0.8033302417889489, 'gamma': 1.2927819474219013, 'lambda': 0.0010791779106228891, 'alpha': 3.1240430946588167}. Best is trial 12 with value: 0.965.\n",
            "[I 2025-04-23 03:18:22,741] Trial 16 finished with value: 0.93875 and parameters: {'max_depth': 10, 'learning_rate': 0.001, 'n_estimators': 243, 'subsample': 0.8328569740840949, 'colsample_bytree': 0.9831916773547589, 'gamma': 0.9024579741540855, 'lambda': 0.0028842311868104544, 'alpha': 2.630191516992421}. Best is trial 12 with value: 0.965.\n",
            "[I 2025-04-23 03:18:37,972] Trial 17 finished with value: 0.97125 and parameters: {'max_depth': 9, 'learning_rate': 0.001, 'n_estimators': 162, 'subsample': 0.8628812662149016, 'colsample_bytree': 0.5000004901911973, 'gamma': 1.912420040916941, 'lambda': 0.003772670460065483, 'alpha': 0.1988732510575546}. Best is trial 17 with value: 0.97125.\n",
            "[I 2025-04-23 03:19:00,311] Trial 18 finished with value: 0.9675 and parameters: {'max_depth': 8, 'learning_rate': 0.001, 'n_estimators': 237, 'subsample': 0.8569679469955289, 'colsample_bytree': 0.516349673829778, 'gamma': 2.7271303941914526, 'lambda': 0.004086202748097022, 'alpha': 0.27932543955882866}. Best is trial 17 with value: 0.97125.\n",
            "[I 2025-04-23 03:19:21,928] Trial 19 finished with value: 0.97125 and parameters: {'max_depth': 8, 'learning_rate': 0.001, 'n_estimators': 227, 'subsample': 0.771147757558959, 'colsample_bytree': 0.5015061410004981, 'gamma': 2.861030522310073, 'lambda': 0.05046311551847018, 'alpha': 0.16643879130227954}. Best is trial 17 with value: 0.97125.\n",
            "[I 2025-04-23 03:19:36,906] Trial 20 finished with value: 0.96 and parameters: {'max_depth': 6, 'learning_rate': 0.001, 'n_estimators': 170, 'subsample': 0.7614800703402037, 'colsample_bytree': 0.6596254818357024, 'gamma': 2.8739889075688554, 'lambda': 0.06912883581821835, 'alpha': 0.07772604969232624}. Best is trial 17 with value: 0.97125.\n",
            "[I 2025-04-23 03:19:57,166] Trial 21 finished with value: 0.9675 and parameters: {'max_depth': 8, 'learning_rate': 0.001, 'n_estimators': 230, 'subsample': 0.8502812705580071, 'colsample_bytree': 0.525403028540372, 'gamma': 2.7941073229107647, 'lambda': 0.005689698111493548, 'alpha': 0.11215612263592177}. Best is trial 17 with value: 0.97125.\n",
            "[I 2025-04-23 03:20:19,208] Trial 22 finished with value: 0.96875 and parameters: {'max_depth': 8, 'learning_rate': 0.001, 'n_estimators': 220, 'subsample': 0.7624411757418994, 'colsample_bytree': 0.5150553594327208, 'gamma': 1.6636849565998126, 'lambda': 0.1305310641378874, 'alpha': 0.2470390621190703}. Best is trial 17 with value: 0.97125.\n",
            "[I 2025-04-23 03:20:40,671] Trial 23 finished with value: 0.9675 and parameters: {'max_depth': 8, 'learning_rate': 0.001, 'n_estimators': 221, 'subsample': 0.7560445495256922, 'colsample_bytree': 0.5647287923707712, 'gamma': 1.756767837421132, 'lambda': 0.13274799747713406, 'alpha': 0.218705540269793}. Best is trial 17 with value: 0.97125.\n",
            "[I 2025-04-23 03:20:55,231] Trial 24 finished with value: 0.96625 and parameters: {'max_depth': 6, 'learning_rate': 0.001, 'n_estimators': 171, 'subsample': 0.6373036774843339, 'colsample_bytree': 0.5004883026084707, 'gamma': 0.6715861126795097, 'lambda': 0.34813428327975043, 'alpha': 0.034735796046125894}. Best is trial 17 with value: 0.97125.\n",
            "[I 2025-04-23 03:21:15,121] Trial 25 finished with value: 0.9675 and parameters: {'max_depth': 8, 'learning_rate': 0.001, 'n_estimators': 221, 'subsample': 0.7855897635972551, 'colsample_bytree': 0.5984943412754142, 'gamma': 1.8124865388846048, 'lambda': 0.05390573895892888, 'alpha': 0.06434216831813748}. Best is trial 17 with value: 0.97125.\n",
            "[I 2025-04-23 03:21:38,913] Trial 26 finished with value: 0.9675 and parameters: {'max_depth': 9, 'learning_rate': 0.01, 'n_estimators': 256, 'subsample': 0.6173009476012046, 'colsample_bytree': 0.5559823484408527, 'gamma': 1.7616549369688341, 'lambda': 2.4405425099427545, 'alpha': 0.20903994907492093}. Best is trial 17 with value: 0.97125.\n",
            "[I 2025-04-23 03:21:54,428] Trial 27 finished with value: 0.95375 and parameters: {'max_depth': 6, 'learning_rate': 0.001, 'n_estimators': 169, 'subsample': 0.7356743913499683, 'colsample_bytree': 0.7962588984205672, 'gamma': 2.5566819469512936, 'lambda': 0.22954462963034097, 'alpha': 0.8936020102127755}. Best is trial 17 with value: 0.97125.\n",
            "[I 2025-04-23 03:22:16,407] Trial 28 finished with value: 0.965 and parameters: {'max_depth': 8, 'learning_rate': 0.001, 'n_estimators': 216, 'subsample': 0.7823904798398139, 'colsample_bytree': 0.6396874820826611, 'gamma': 4.345010955247199, 'lambda': 0.09468446260256863, 'alpha': 0.025039843227270445}. Best is trial 17 with value: 0.97125.\n",
            "[I 2025-04-23 03:22:29,836] Trial 29 finished with value: 0.965 and parameters: {'max_depth': 9, 'learning_rate': 0.001, 'n_estimators': 128, 'subsample': 0.6641150189005076, 'colsample_bytree': 0.6908152059524854, 'gamma': 3.102272831563457, 'lambda': 0.012871060924431976, 'alpha': 0.012841427809125252}. Best is trial 17 with value: 0.97125.\n",
            "[I 2025-04-23 03:22:47,199] Trial 30 finished with value: 0.97625 and parameters: {'max_depth': 10, 'learning_rate': 0.01, 'n_estimators': 184, 'subsample': 0.8822221621816074, 'colsample_bytree': 0.5009989621026224, 'gamma': 1.5235015760732373, 'lambda': 0.02953267178303569, 'alpha': 0.054934964664353166}. Best is trial 30 with value: 0.97625.\n",
            "[I 2025-04-23 03:23:06,772] Trial 31 finished with value: 0.97625 and parameters: {'max_depth': 10, 'learning_rate': 0.01, 'n_estimators': 186, 'subsample': 0.8798533064272795, 'colsample_bytree': 0.5030687690768533, 'gamma': 0.8568131484460872, 'lambda': 0.035406926512179686, 'alpha': 0.057861667958083424}. Best is trial 30 with value: 0.97625.\n",
            "[I 2025-04-23 03:23:25,827] Trial 32 finished with value: 0.97 and parameters: {'max_depth': 10, 'learning_rate': 0.01, 'n_estimators': 182, 'subsample': 0.9313711499744391, 'colsample_bytree': 0.5895592307964066, 'gamma': 0.6390974174911702, 'lambda': 0.036351554287436465, 'alpha': 0.05756349938768593}. Best is trial 30 with value: 0.97625.\n",
            "[I 2025-04-23 03:23:43,887] Trial 33 finished with value: 0.9725 and parameters: {'max_depth': 10, 'learning_rate': 0.01, 'n_estimators': 159, 'subsample': 0.8750380627976573, 'colsample_bytree': 0.5567390426619788, 'gamma': 0.2193747070093819, 'lambda': 0.012173521571824091, 'alpha': 0.15373915559377754}. Best is trial 30 with value: 0.97625.\n",
            "[I 2025-04-23 03:24:00,987] Trial 34 finished with value: 0.9725 and parameters: {'max_depth': 10, 'learning_rate': 0.01, 'n_estimators': 157, 'subsample': 0.8691009003731957, 'colsample_bytree': 0.5459008796883584, 'gamma': 0.015418029289200691, 'lambda': 0.014872080741803791, 'alpha': 0.017400469778222835}. Best is trial 30 with value: 0.97625.\n",
            "[I 2025-04-23 03:24:15,415] Trial 35 finished with value: 0.9725 and parameters: {'max_depth': 10, 'learning_rate': 0.01, 'n_estimators': 131, 'subsample': 0.8843557243014778, 'colsample_bytree': 0.5484097126115928, 'gamma': 0.031370559474547074, 'lambda': 0.011151428765829294, 'alpha': 0.01661334077424757}. Best is trial 30 with value: 0.97625.\n",
            "[I 2025-04-23 03:24:31,581] Trial 36 finished with value: 0.9725 and parameters: {'max_depth': 10, 'learning_rate': 0.01, 'n_estimators': 154, 'subsample': 0.9448857935791587, 'colsample_bytree': 0.5448445434378003, 'gamma': 0.34979053661570597, 'lambda': 0.030132223008471, 'alpha': 0.010026081659120296}. Best is trial 30 with value: 0.97625.\n",
            "[I 2025-04-23 03:24:52,826] Trial 37 finished with value: 0.97125 and parameters: {'max_depth': 10, 'learning_rate': 0.01, 'n_estimators': 197, 'subsample': 0.9147113193872536, 'colsample_bytree': 0.5798808678358459, 'gamma': 0.5144931406297091, 'lambda': 0.019372739258184925, 'alpha': 0.051876639683813223}. Best is trial 30 with value: 0.97625.\n",
            "[I 2025-04-23 03:25:12,259] Trial 38 finished with value: 0.96875 and parameters: {'max_depth': 9, 'learning_rate': 0.01, 'n_estimators': 182, 'subsample': 0.8311292577786487, 'colsample_bytree': 0.6192190294224806, 'gamma': 0.9470328834476767, 'lambda': 0.010007693033927356, 'alpha': 0.003922647219354239}. Best is trial 30 with value: 0.97625.\n",
            "[I 2025-04-23 03:25:21,145] Trial 39 finished with value: 0.96875 and parameters: {'max_depth': 10, 'learning_rate': 0.01, 'n_estimators': 95, 'subsample': 0.877544639779865, 'colsample_bytree': 0.5445323857900511, 'gamma': 0.011485415392392229, 'lambda': 0.026015691381494024, 'alpha': 0.4381719450775855}. Best is trial 30 with value: 0.97625.\n",
            "[I 2025-04-23 03:25:34,385] Trial 40 finished with value: 0.9675 and parameters: {'max_depth': 9, 'learning_rate': 0.01, 'n_estimators': 124, 'subsample': 0.9235675327909887, 'colsample_bytree': 0.6881897641950735, 'gamma': 0.9103738230081186, 'lambda': 0.008031715294172903, 'alpha': 0.022495433279337798}. Best is trial 30 with value: 0.97625.\n",
            "[I 2025-04-23 03:25:47,818] Trial 41 finished with value: 0.97 and parameters: {'max_depth': 10, 'learning_rate': 0.01, 'n_estimators': 124, 'subsample': 0.886725651101952, 'colsample_bytree': 0.5478098497042893, 'gamma': 0.31170220620829614, 'lambda': 0.013849672157180946, 'alpha': 0.012461389533824477}. Best is trial 30 with value: 0.97625.\n",
            "[I 2025-04-23 03:26:04,176] Trial 42 finished with value: 0.97125 and parameters: {'max_depth': 10, 'learning_rate': 0.01, 'n_estimators': 136, 'subsample': 0.8880904418955462, 'colsample_bytree': 0.5785620813247453, 'gamma': 0.10226885935965291, 'lambda': 0.01760109399252867, 'alpha': 0.03844391197336961}. Best is trial 30 with value: 0.97625.\n",
            "[I 2025-04-23 03:26:14,565] Trial 43 finished with value: 0.97125 and parameters: {'max_depth': 10, 'learning_rate': 0.01, 'n_estimators': 108, 'subsample': 0.8231809716824866, 'colsample_bytree': 0.5351608358272877, 'gamma': 0.4653956206587179, 'lambda': 0.001959880473401786, 'alpha': 0.017394857243717757}. Best is trial 30 with value: 0.97625.\n",
            "[I 2025-04-23 03:26:28,215] Trial 44 finished with value: 0.9625 and parameters: {'max_depth': 5, 'learning_rate': 0.01, 'n_estimators': 159, 'subsample': 0.9711458847014105, 'colsample_bytree': 0.5317105748158899, 'gamma': 0.031114900419193483, 'lambda': 0.011640988285578793, 'alpha': 0.0011988242329780741}. Best is trial 30 with value: 0.97625.\n",
            "[I 2025-04-23 03:26:48,790] Trial 45 finished with value: 0.97125 and parameters: {'max_depth': 9, 'learning_rate': 0.01, 'n_estimators': 204, 'subsample': 0.8751333931599665, 'colsample_bytree': 0.5697388327662227, 'gamma': 0.7609369094047045, 'lambda': 0.04368482229246274, 'alpha': 0.09782397072180125}. Best is trial 30 with value: 0.97625.\n",
            "[I 2025-04-23 03:27:04,101] Trial 46 finished with value: 0.96625 and parameters: {'max_depth': 10, 'learning_rate': 0.01, 'n_estimators': 138, 'subsample': 0.8469286601270494, 'colsample_bytree': 0.7514076738777195, 'gamma': 1.0987095918484782, 'lambda': 0.005540789895830116, 'alpha': 0.0059572055868955705}. Best is trial 30 with value: 0.97625.\n",
            "[I 2025-04-23 03:27:25,805] Trial 47 finished with value: 0.96875 and parameters: {'max_depth': 10, 'learning_rate': 0.01, 'n_estimators': 188, 'subsample': 0.9124683701293022, 'colsample_bytree': 0.6162625054443891, 'gamma': 0.24909220304837795, 'lambda': 0.0239286886766094, 'alpha': 0.04209836953105177}. Best is trial 30 with value: 0.97625.\n",
            "[I 2025-04-23 03:27:42,677] Trial 48 finished with value: 0.95875 and parameters: {'max_depth': 9, 'learning_rate': 0.01, 'n_estimators': 145, 'subsample': 0.9692669457019192, 'colsample_bytree': 0.928653699620539, 'gamma': 1.504824396236193, 'lambda': 0.07156813313232516, 'alpha': 0.017208122376590605}. Best is trial 30 with value: 0.97625.\n",
            "[I 2025-04-23 03:27:52,707] Trial 49 finished with value: 0.965 and parameters: {'max_depth': 10, 'learning_rate': 0.01, 'n_estimators': 82, 'subsample': 0.8005749751531845, 'colsample_bytree': 0.6473687293484088, 'gamma': 0.4887825245384083, 'lambda': 0.00854061826363166, 'alpha': 0.02815972386260086}. Best is trial 30 with value: 0.97625.\n"
          ]
        },
        {
          "name": "stdout",
          "output_type": "stream",
          "text": [
            "Best trial:\n",
            "{'max_depth': 10, 'learning_rate': 0.01, 'n_estimators': 184, 'subsample': 0.8822221621816074, 'colsample_bytree': 0.5009989621026224, 'gamma': 1.5235015760732373, 'lambda': 0.02953267178303569, 'alpha': 0.054934964664353166}\n"
          ]
        }
      ],
      "source": [
        "import optuna\n",
        "import xgboost as xgb\n",
        "from sklearn.model_selection import train_test_split\n",
        "from sklearn.metrics import accuracy_score\n",
        "from sklearn.datasets import load_breast_cancer\n",
        "\n",
        "\n",
        "# Define objective function\n",
        "def objective(trial):\n",
        "    params = {\n",
        "        \"objective\": \"binary:logistic\",\n",
        "        \"eval_metric\": \"logloss\",\n",
        "        \"verbosity\": 0,\n",
        "        \"booster\": \"gbtree\",\n",
        "        \"max_depth\": trial.suggest_int(\"max_depth\", 3, 10),\n",
        "        \"learning_rate\": trial.suggest_categorical(\"learning_rate\", [1e-2, 1e-3, 1e-4]),\n",
        "        \"n_estimators\": trial.suggest_int(\"n_estimators\", 50, 300),\n",
        "        \"subsample\": trial.suggest_float(\"subsample\", 0.5, 1.0),\n",
        "        \"colsample_bytree\": trial.suggest_float(\"colsample_bytree\", 0.5, 1.0),\n",
        "        \"gamma\": trial.suggest_float(\"gamma\", 0, 5),\n",
        "        \"lambda\": trial.suggest_float(\"lambda\", 1e-3, 10, log=True),\n",
        "        \"alpha\": trial.suggest_float(\"alpha\", 1e-3, 10, log=True),\n",
        "    }\n",
        "\n",
        "    model = xgb.XGBClassifier(**params, use_label_encoder=False)\n",
        "    model.fit(X_train1, y_train1, eval_set=[(X_test1, y_test1)], verbose=False)\n",
        "    preds = model.predict(X_test1)\n",
        "    return accuracy_score(y_test1, preds)\n",
        "\n",
        "# Run study\n",
        "study = optuna.create_study(direction=\"maximize\")\n",
        "study.optimize(objective, n_trials=50)\n",
        "\n",
        "# Best result\n",
        "print(\"Best trial:\")\n",
        "print(study.best_trial.params)"
      ]
    }
  ],
  "metadata": {
    "colab": {
      "provenance": []
    },
    "kernelspec": {
      "display_name": "Python 3",
      "name": "python3"
    },
    "language_info": {
      "name": "python"
    }
  },
  "nbformat": 4,
  "nbformat_minor": 0
}
