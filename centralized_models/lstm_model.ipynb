{
  "cells": [
    {
      "cell_type": "markdown",
      "metadata": {
        "id": "Eqxsj94Rt018"
      },
      "source": [
        "# LSTM Model"
      ]
    },
    {
      "cell_type": "markdown",
      "metadata": {
        "id": "5EmGTzAj8bcN"
      },
      "source": [
        "https://github.com/LukeDitria/pytorch_tutorials/blob/main/section12_sequential/solutions/Pytorch6_LSTM_Text_Classification.ipynb"
      ]
    },
    {
      "cell_type": "code",
      "execution_count": null,
      "metadata": {
        "id": "tlPcRmh-t5Vq"
      },
      "outputs": [],
      "source": [
        "import tensorflow as tf\n",
        "from tensorflow import keras\n",
        "import pandas as pd\n",
        "import numpy as np\n",
        "import os\n",
        "import matplotlib.pyplot as plt\n",
        "import time"
      ]
    },
    {
      "cell_type": "code",
      "execution_count": null,
      "metadata": {
        "id": "CTbL-nJVt6YD"
      },
      "outputs": [],
      "source": [
        "# First dataset\n",
        "train_df = pd.read_csv(\"processed_train.csv\")\n",
        "test_df = pd.read_csv(\"processed_test.csv\")\n",
        "\n",
        "# Second dataset\n",
        "train_df1 = pd.read_csv(\"processed_train1.csv\")\n",
        "test_df1 = pd.read_csv(\"processed_test1.csv\")\n",
        "\n",
        "# Combined dataset\n",
        "train_df2 = pd.read_csv(\"combined_processed_train.csv\")\n",
        "test_df2 = pd.read_csv(\"combined_processed_test.csv\")\n",
        "\n",
        "# Eval dataset\n",
        "test_df3 = pd.read_csv(\"scam_dataset_eval_processed.csv\")"
      ]
    },
    {
      "cell_type": "code",
      "execution_count": null,
      "metadata": {
        "colab": {
          "base_uri": "https://localhost:8080/"
        },
        "id": "k3bqXTv5t-3D",
        "outputId": "42f27ce4-3593-4679-b5dd-e9a3d0ce4190"
      },
      "outputs": [
        {
          "name": "stdout",
          "output_type": "stream",
          "text": [
            "(1280, 3)\n",
            "(320, 3)\n"
          ]
        }
      ],
      "source": [
        "print(train_df.shape)\n",
        "print(test_df.shape)"
      ]
    },
    {
      "cell_type": "code",
      "execution_count": null,
      "metadata": {
        "colab": {
          "base_uri": "https://localhost:8080/",
          "height": 206
        },
        "id": "iOXFfIgauCGE",
        "outputId": "671f3c97-c2ba-4a43-8fc3-eabb38bad4db"
      },
      "outputs": [
        {
          "data": {
            "application/vnd.google.colaboratory.intrinsic+json": {
              "summary": "{\n  \"name\": \"train_df\",\n  \"rows\": 1280,\n  \"fields\": [\n    {\n      \"column\": \"text\",\n      \"properties\": {\n        \"dtype\": \"string\",\n        \"num_unique_values\": 1274,\n        \"samples\": [\n          \"Hello is this John My name is David and Im from the Microsoft Refund Department Weve been trying to reach you regarding a refund of 500 that youre eligible for Its due to a recent classaction lawsuit against our company You must have received an email about it Well it was a mistake on our part and were making amends by issuing refunds to affected customers We have your information in our system Your Windows operating system was affected by the issue Uh let me check Ah yes it says here you have Windows 10 No no it doesnt matter The refund is still applicable to you We just need to verify some information to process the payment Can you please confirm your Social Security number and bank account details Its just a routine procedure to ensure the refund goes to the right person Dont worry its completely secure I understand your concerns but this is a limitedtime offer and if you dont act now youll miss out on the refund Can I at least get your bank account routing number to expedite the process\",\n          \"Hello congratulations Youve been selected to receive a free 1000 gift card from our company You were randomly selected from our database of loyal customers Can you please confirm your name and address so we can process the delivery Were a marketing firm and were running this promotion to increase brand awareness All you need to do is pay a small processing fee of 50 and the gift card will be yours Our company is called Lucky Winners Inc and yes you can definitely look us up online But let me give you a special code to redeem your gift card Its GW1234 Ah thats because were a new company and we havent had a chance to update our website yet But trust me this is a legitimate offer Just pay the processing fee and youll receive your gift card within 24 hours Uh let me check on that for you  Yes you can contact our customer service department at 5551234 or email them at supportluckywinnerscom The processing fee is nonrefundable but like I said youll receive your gift card within 24 hours so theres no risk involved\",\n          \"Hello my name is John from the Customer Service Department of Amazon Weve noticed that you were overcharged on your recent purchase and wed like to refund you 500 Yes it was an error on our part We apologize for the inconvenience To process the refund I need to verify some information Can you please provide me with your account login credentials I understand your concern but our system requires us to verify the account owner before issuing a refund Its for your security Maam I assure you this is a legitimate call You can check our website and see that we have a special promotion going on right now for refunds Would you like me to hold while you check Well send you a prepaid debit card with the refund amount All you need to do is provide me with your address and social security number for verification purposes Its just a routine procedure maam Dont worry its completely safe Let me check if my supervisor is available  Ah yes My supervisor will call you back within the next 24 hours to assist you further Uh let me see His name is Michael Brown and his extension is uh 4567 Youre welcome maam Have a great day\"\n        ],\n        \"semantic_type\": \"\",\n        \"description\": \"\"\n      }\n    },\n    {\n      \"column\": \"type\",\n      \"properties\": {\n        \"dtype\": \"category\",\n        \"num_unique_values\": 8,\n        \"samples\": [\n          \"refund\",\n          \"insurance\",\n          \"ssn\"\n        ],\n        \"semantic_type\": \"\",\n        \"description\": \"\"\n      }\n    },\n    {\n      \"column\": \"label\",\n      \"properties\": {\n        \"dtype\": \"number\",\n        \"std\": 0,\n        \"min\": 0,\n        \"max\": 1,\n        \"num_unique_values\": 2,\n        \"samples\": [\n          0,\n          1\n        ],\n        \"semantic_type\": \"\",\n        \"description\": \"\"\n      }\n    }\n  ]\n}",
              "type": "dataframe",
              "variable_name": "train_df"
            },
            "text/html": [
              "\n",
              "  <div id=\"df-5f87d0ff-c810-42e0-ac55-759337801e72\" class=\"colab-df-container\">\n",
              "    <div>\n",
              "<style scoped>\n",
              "    .dataframe tbody tr th:only-of-type {\n",
              "        vertical-align: middle;\n",
              "    }\n",
              "\n",
              "    .dataframe tbody tr th {\n",
              "        vertical-align: top;\n",
              "    }\n",
              "\n",
              "    .dataframe thead th {\n",
              "        text-align: right;\n",
              "    }\n",
              "</style>\n",
              "<table border=\"1\" class=\"dataframe\">\n",
              "  <thead>\n",
              "    <tr style=\"text-align: right;\">\n",
              "      <th></th>\n",
              "      <th>text</th>\n",
              "      <th>type</th>\n",
              "      <th>label</th>\n",
              "    </tr>\n",
              "  </thead>\n",
              "  <tbody>\n",
              "    <tr>\n",
              "      <th>0</th>\n",
              "      <td>Hello is this John My name is Officer Johnson ...</td>\n",
              "      <td>ssn</td>\n",
              "      <td>1</td>\n",
              "    </tr>\n",
              "    <tr>\n",
              "      <th>1</th>\n",
              "      <td>Hello is this John My name is Officer Johnson ...</td>\n",
              "      <td>ssn</td>\n",
              "      <td>1</td>\n",
              "    </tr>\n",
              "    <tr>\n",
              "      <th>2</th>\n",
              "      <td>Hello is this Mr Johnson My name is Officer Ja...</td>\n",
              "      <td>ssn</td>\n",
              "      <td>1</td>\n",
              "    </tr>\n",
              "    <tr>\n",
              "      <th>3</th>\n",
              "      <td>Hello is this John My name is Officer Johnson ...</td>\n",
              "      <td>ssn</td>\n",
              "      <td>1</td>\n",
              "    </tr>\n",
              "    <tr>\n",
              "      <th>4</th>\n",
              "      <td>Hello this is Officer Johnson from the Social ...</td>\n",
              "      <td>ssn</td>\n",
              "      <td>1</td>\n",
              "    </tr>\n",
              "  </tbody>\n",
              "</table>\n",
              "</div>\n",
              "    <div class=\"colab-df-buttons\">\n",
              "\n",
              "  <div class=\"colab-df-container\">\n",
              "    <button class=\"colab-df-convert\" onclick=\"convertToInteractive('df-5f87d0ff-c810-42e0-ac55-759337801e72')\"\n",
              "            title=\"Convert this dataframe to an interactive table.\"\n",
              "            style=\"display:none;\">\n",
              "\n",
              "  <svg xmlns=\"http://www.w3.org/2000/svg\" height=\"24px\" viewBox=\"0 -960 960 960\">\n",
              "    <path d=\"M120-120v-720h720v720H120Zm60-500h600v-160H180v160Zm220 220h160v-160H400v160Zm0 220h160v-160H400v160ZM180-400h160v-160H180v160Zm440 0h160v-160H620v160ZM180-180h160v-160H180v160Zm440 0h160v-160H620v160Z\"/>\n",
              "  </svg>\n",
              "    </button>\n",
              "\n",
              "  <style>\n",
              "    .colab-df-container {\n",
              "      display:flex;\n",
              "      gap: 12px;\n",
              "    }\n",
              "\n",
              "    .colab-df-convert {\n",
              "      background-color: #E8F0FE;\n",
              "      border: none;\n",
              "      border-radius: 50%;\n",
              "      cursor: pointer;\n",
              "      display: none;\n",
              "      fill: #1967D2;\n",
              "      height: 32px;\n",
              "      padding: 0 0 0 0;\n",
              "      width: 32px;\n",
              "    }\n",
              "\n",
              "    .colab-df-convert:hover {\n",
              "      background-color: #E2EBFA;\n",
              "      box-shadow: 0px 1px 2px rgba(60, 64, 67, 0.3), 0px 1px 3px 1px rgba(60, 64, 67, 0.15);\n",
              "      fill: #174EA6;\n",
              "    }\n",
              "\n",
              "    .colab-df-buttons div {\n",
              "      margin-bottom: 4px;\n",
              "    }\n",
              "\n",
              "    [theme=dark] .colab-df-convert {\n",
              "      background-color: #3B4455;\n",
              "      fill: #D2E3FC;\n",
              "    }\n",
              "\n",
              "    [theme=dark] .colab-df-convert:hover {\n",
              "      background-color: #434B5C;\n",
              "      box-shadow: 0px 1px 3px 1px rgba(0, 0, 0, 0.15);\n",
              "      filter: drop-shadow(0px 1px 2px rgba(0, 0, 0, 0.3));\n",
              "      fill: #FFFFFF;\n",
              "    }\n",
              "  </style>\n",
              "\n",
              "    <script>\n",
              "      const buttonEl =\n",
              "        document.querySelector('#df-5f87d0ff-c810-42e0-ac55-759337801e72 button.colab-df-convert');\n",
              "      buttonEl.style.display =\n",
              "        google.colab.kernel.accessAllowed ? 'block' : 'none';\n",
              "\n",
              "      async function convertToInteractive(key) {\n",
              "        const element = document.querySelector('#df-5f87d0ff-c810-42e0-ac55-759337801e72');\n",
              "        const dataTable =\n",
              "          await google.colab.kernel.invokeFunction('convertToInteractive',\n",
              "                                                    [key], {});\n",
              "        if (!dataTable) return;\n",
              "\n",
              "        const docLinkHtml = 'Like what you see? Visit the ' +\n",
              "          '<a target=\"_blank\" href=https://colab.research.google.com/notebooks/data_table.ipynb>data table notebook</a>'\n",
              "          + ' to learn more about interactive tables.';\n",
              "        element.innerHTML = '';\n",
              "        dataTable['output_type'] = 'display_data';\n",
              "        await google.colab.output.renderOutput(dataTable, element);\n",
              "        const docLink = document.createElement('div');\n",
              "        docLink.innerHTML = docLinkHtml;\n",
              "        element.appendChild(docLink);\n",
              "      }\n",
              "    </script>\n",
              "  </div>\n",
              "\n",
              "\n",
              "<div id=\"df-bb29708c-4ce8-4d96-bea2-bba7c77d0128\">\n",
              "  <button class=\"colab-df-quickchart\" onclick=\"quickchart('df-bb29708c-4ce8-4d96-bea2-bba7c77d0128')\"\n",
              "            title=\"Suggest charts\"\n",
              "            style=\"display:none;\">\n",
              "\n",
              "<svg xmlns=\"http://www.w3.org/2000/svg\" height=\"24px\"viewBox=\"0 0 24 24\"\n",
              "     width=\"24px\">\n",
              "    <g>\n",
              "        <path d=\"M19 3H5c-1.1 0-2 .9-2 2v14c0 1.1.9 2 2 2h14c1.1 0 2-.9 2-2V5c0-1.1-.9-2-2-2zM9 17H7v-7h2v7zm4 0h-2V7h2v10zm4 0h-2v-4h2v4z\"/>\n",
              "    </g>\n",
              "</svg>\n",
              "  </button>\n",
              "\n",
              "<style>\n",
              "  .colab-df-quickchart {\n",
              "      --bg-color: #E8F0FE;\n",
              "      --fill-color: #1967D2;\n",
              "      --hover-bg-color: #E2EBFA;\n",
              "      --hover-fill-color: #174EA6;\n",
              "      --disabled-fill-color: #AAA;\n",
              "      --disabled-bg-color: #DDD;\n",
              "  }\n",
              "\n",
              "  [theme=dark] .colab-df-quickchart {\n",
              "      --bg-color: #3B4455;\n",
              "      --fill-color: #D2E3FC;\n",
              "      --hover-bg-color: #434B5C;\n",
              "      --hover-fill-color: #FFFFFF;\n",
              "      --disabled-bg-color: #3B4455;\n",
              "      --disabled-fill-color: #666;\n",
              "  }\n",
              "\n",
              "  .colab-df-quickchart {\n",
              "    background-color: var(--bg-color);\n",
              "    border: none;\n",
              "    border-radius: 50%;\n",
              "    cursor: pointer;\n",
              "    display: none;\n",
              "    fill: var(--fill-color);\n",
              "    height: 32px;\n",
              "    padding: 0;\n",
              "    width: 32px;\n",
              "  }\n",
              "\n",
              "  .colab-df-quickchart:hover {\n",
              "    background-color: var(--hover-bg-color);\n",
              "    box-shadow: 0 1px 2px rgba(60, 64, 67, 0.3), 0 1px 3px 1px rgba(60, 64, 67, 0.15);\n",
              "    fill: var(--button-hover-fill-color);\n",
              "  }\n",
              "\n",
              "  .colab-df-quickchart-complete:disabled,\n",
              "  .colab-df-quickchart-complete:disabled:hover {\n",
              "    background-color: var(--disabled-bg-color);\n",
              "    fill: var(--disabled-fill-color);\n",
              "    box-shadow: none;\n",
              "  }\n",
              "\n",
              "  .colab-df-spinner {\n",
              "    border: 2px solid var(--fill-color);\n",
              "    border-color: transparent;\n",
              "    border-bottom-color: var(--fill-color);\n",
              "    animation:\n",
              "      spin 1s steps(1) infinite;\n",
              "  }\n",
              "\n",
              "  @keyframes spin {\n",
              "    0% {\n",
              "      border-color: transparent;\n",
              "      border-bottom-color: var(--fill-color);\n",
              "      border-left-color: var(--fill-color);\n",
              "    }\n",
              "    20% {\n",
              "      border-color: transparent;\n",
              "      border-left-color: var(--fill-color);\n",
              "      border-top-color: var(--fill-color);\n",
              "    }\n",
              "    30% {\n",
              "      border-color: transparent;\n",
              "      border-left-color: var(--fill-color);\n",
              "      border-top-color: var(--fill-color);\n",
              "      border-right-color: var(--fill-color);\n",
              "    }\n",
              "    40% {\n",
              "      border-color: transparent;\n",
              "      border-right-color: var(--fill-color);\n",
              "      border-top-color: var(--fill-color);\n",
              "    }\n",
              "    60% {\n",
              "      border-color: transparent;\n",
              "      border-right-color: var(--fill-color);\n",
              "    }\n",
              "    80% {\n",
              "      border-color: transparent;\n",
              "      border-right-color: var(--fill-color);\n",
              "      border-bottom-color: var(--fill-color);\n",
              "    }\n",
              "    90% {\n",
              "      border-color: transparent;\n",
              "      border-bottom-color: var(--fill-color);\n",
              "    }\n",
              "  }\n",
              "</style>\n",
              "\n",
              "  <script>\n",
              "    async function quickchart(key) {\n",
              "      const quickchartButtonEl =\n",
              "        document.querySelector('#' + key + ' button');\n",
              "      quickchartButtonEl.disabled = true;  // To prevent multiple clicks.\n",
              "      quickchartButtonEl.classList.add('colab-df-spinner');\n",
              "      try {\n",
              "        const charts = await google.colab.kernel.invokeFunction(\n",
              "            'suggestCharts', [key], {});\n",
              "      } catch (error) {\n",
              "        console.error('Error during call to suggestCharts:', error);\n",
              "      }\n",
              "      quickchartButtonEl.classList.remove('colab-df-spinner');\n",
              "      quickchartButtonEl.classList.add('colab-df-quickchart-complete');\n",
              "    }\n",
              "    (() => {\n",
              "      let quickchartButtonEl =\n",
              "        document.querySelector('#df-bb29708c-4ce8-4d96-bea2-bba7c77d0128 button');\n",
              "      quickchartButtonEl.style.display =\n",
              "        google.colab.kernel.accessAllowed ? 'block' : 'none';\n",
              "    })();\n",
              "  </script>\n",
              "</div>\n",
              "\n",
              "    </div>\n",
              "  </div>\n"
            ],
            "text/plain": [
              "                                                text type  label\n",
              "0  Hello is this John My name is Officer Johnson ...  ssn      1\n",
              "1  Hello is this John My name is Officer Johnson ...  ssn      1\n",
              "2  Hello is this Mr Johnson My name is Officer Ja...  ssn      1\n",
              "3  Hello is this John My name is Officer Johnson ...  ssn      1\n",
              "4  Hello this is Officer Johnson from the Social ...  ssn      1"
            ]
          },
          "execution_count": 4,
          "metadata": {},
          "output_type": "execute_result"
        }
      ],
      "source": [
        "train_df.head()"
      ]
    },
    {
      "cell_type": "code",
      "execution_count": null,
      "metadata": {
        "id": "D1pLeAD1u_3e"
      },
      "outputs": [],
      "source": [
        "from transformers import BertTokenizer\n",
        "\n",
        "# Load Pretrained BERT Tokenizer\n",
        "tokenizer = BertTokenizer.from_pretrained(\"bert-base-uncased\")\n",
        "\n",
        "# Tokenize text\n",
        "train_tokens = tokenizer(list(train_df['text']), padding=\"max_length\", truncation=True, max_length=100, return_tensors=\"tf\")\n",
        "test_tokens = tokenizer(list(test_df['text']), padding=\"max_length\", truncation=True, max_length=100, return_tensors=\"tf\")\n",
        "\n",
        "train_tokens1 = tokenizer(list(train_df1['text']), padding=\"max_length\", truncation=True, max_length=100, return_tensors=\"tf\")\n",
        "test_tokens1 = tokenizer(list(test_df1['text']), padding=\"max_length\", truncation=True, max_length=100, return_tensors=\"tf\")\n",
        "\n",
        "train_tokens2 = tokenizer(list(train_df2['text']), padding=\"max_length\", truncation=True, max_length=100, return_tensors=\"tf\")\n",
        "test_tokens2 = tokenizer(list(test_df2['text']), padding=\"max_length\", truncation=True, max_length=100, return_tensors=\"tf\")\n",
        "\n",
        "test_tokens3 = tokenizer(list(test_df3['text']), padding=\"max_length\", truncation=True, max_length=100, return_tensors=\"tf\")"
      ]
    },
    {
      "cell_type": "code",
      "execution_count": null,
      "metadata": {
        "colab": {
          "base_uri": "https://localhost:8080/"
        },
        "id": "xAdIfu1632A9",
        "outputId": "5ca1b08a-0979-407a-9083-041cddf0917a"
      },
      "outputs": [
        {
          "data": {
            "text/plain": [
              "{'input_ids': <tf.Tensor: shape=(1280, 100), dtype=int32, numpy=\n",
              "array([[  101,  7592,  2003, ...,  2017,  2065,   102],\n",
              "       [  101,  7592,  2003, ..., 11082,  2074,   102],\n",
              "       [  101,  7592,  2003, ...,  3036,  2193,   102],\n",
              "       ...,\n",
              "       [  101,  7632,  2003, ...,     0,     0,     0],\n",
              "       [  101,  7632,  2003, ...,     0,     0,     0],\n",
              "       [  101,  7632,  2003, ...,     0,     0,     0]], dtype=int32)>, 'token_type_ids': <tf.Tensor: shape=(1280, 100), dtype=int32, numpy=\n",
              "array([[0, 0, 0, ..., 0, 0, 0],\n",
              "       [0, 0, 0, ..., 0, 0, 0],\n",
              "       [0, 0, 0, ..., 0, 0, 0],\n",
              "       ...,\n",
              "       [0, 0, 0, ..., 0, 0, 0],\n",
              "       [0, 0, 0, ..., 0, 0, 0],\n",
              "       [0, 0, 0, ..., 0, 0, 0]], dtype=int32)>, 'attention_mask': <tf.Tensor: shape=(1280, 100), dtype=int32, numpy=\n",
              "array([[1, 1, 1, ..., 1, 1, 1],\n",
              "       [1, 1, 1, ..., 1, 1, 1],\n",
              "       [1, 1, 1, ..., 1, 1, 1],\n",
              "       ...,\n",
              "       [1, 1, 1, ..., 0, 0, 0],\n",
              "       [1, 1, 1, ..., 0, 0, 0],\n",
              "       [1, 1, 1, ..., 0, 0, 0]], dtype=int32)>}"
            ]
          },
          "execution_count": 17,
          "metadata": {},
          "output_type": "execute_result"
        }
      ],
      "source": [
        "train_tokens"
      ]
    },
    {
      "cell_type": "code",
      "execution_count": null,
      "metadata": {
        "colab": {
          "base_uri": "https://localhost:8080/",
          "height": 232
        },
        "id": "fjL5_ZTgvGHu",
        "outputId": "785b0550-84fa-46a6-c8dd-af775e4830dc"
      },
      "outputs": [
        {
          "data": {
            "text/html": [
              "<pre style=\"white-space:pre;overflow-x:auto;line-height:normal;font-family:Menlo,'DejaVu Sans Mono',consolas,'Courier New',monospace\"><span style=\"font-weight: bold\">Model: \"sequential_27\"</span>\n",
              "</pre>\n"
            ],
            "text/plain": [
              "\u001b[1mModel: \"sequential_27\"\u001b[0m\n"
            ]
          },
          "metadata": {},
          "output_type": "display_data"
        },
        {
          "data": {
            "text/html": [
              "<pre style=\"white-space:pre;overflow-x:auto;line-height:normal;font-family:Menlo,'DejaVu Sans Mono',consolas,'Courier New',monospace\">┏━━━━━━━━━━━━━━━━━━━━━━━━━━━━━━━━━┳━━━━━━━━━━━━━━━━━━━━━━━━┳━━━━━━━━━━━━━━━┓\n",
              "┃<span style=\"font-weight: bold\"> Layer (type)                    </span>┃<span style=\"font-weight: bold\"> Output Shape           </span>┃<span style=\"font-weight: bold\">       Param # </span>┃\n",
              "┡━━━━━━━━━━━━━━━━━━━━━━━━━━━━━━━━━╇━━━━━━━━━━━━━━━━━━━━━━━━╇━━━━━━━━━━━━━━━┩\n",
              "│ embedding_27 (<span style=\"color: #0087ff; text-decoration-color: #0087ff\">Embedding</span>)        │ ?                      │   <span style=\"color: #00af00; text-decoration-color: #00af00\">0</span> (unbuilt) │\n",
              "├─────────────────────────────────┼────────────────────────┼───────────────┤\n",
              "│ lstm_27 (<span style=\"color: #0087ff; text-decoration-color: #0087ff\">LSTM</span>)                  │ ?                      │   <span style=\"color: #00af00; text-decoration-color: #00af00\">0</span> (unbuilt) │\n",
              "├─────────────────────────────────┼────────────────────────┼───────────────┤\n",
              "│ dense_27 (<span style=\"color: #0087ff; text-decoration-color: #0087ff\">Dense</span>)                │ ?                      │   <span style=\"color: #00af00; text-decoration-color: #00af00\">0</span> (unbuilt) │\n",
              "└─────────────────────────────────┴────────────────────────┴───────────────┘\n",
              "</pre>\n"
            ],
            "text/plain": [
              "┏━━━━━━━━━━━━━━━━━━━━━━━━━━━━━━━━━┳━━━━━━━━━━━━━━━━━━━━━━━━┳━━━━━━━━━━━━━━━┓\n",
              "┃\u001b[1m \u001b[0m\u001b[1mLayer (type)                   \u001b[0m\u001b[1m \u001b[0m┃\u001b[1m \u001b[0m\u001b[1mOutput Shape          \u001b[0m\u001b[1m \u001b[0m┃\u001b[1m \u001b[0m\u001b[1m      Param #\u001b[0m\u001b[1m \u001b[0m┃\n",
              "┡━━━━━━━━━━━━━━━━━━━━━━━━━━━━━━━━━╇━━━━━━━━━━━━━━━━━━━━━━━━╇━━━━━━━━━━━━━━━┩\n",
              "│ embedding_27 (\u001b[38;5;33mEmbedding\u001b[0m)        │ ?                      │   \u001b[38;5;34m0\u001b[0m (unbuilt) │\n",
              "├─────────────────────────────────┼────────────────────────┼───────────────┤\n",
              "│ lstm_27 (\u001b[38;5;33mLSTM\u001b[0m)                  │ ?                      │   \u001b[38;5;34m0\u001b[0m (unbuilt) │\n",
              "├─────────────────────────────────┼────────────────────────┼───────────────┤\n",
              "│ dense_27 (\u001b[38;5;33mDense\u001b[0m)                │ ?                      │   \u001b[38;5;34m0\u001b[0m (unbuilt) │\n",
              "└─────────────────────────────────┴────────────────────────┴───────────────┘\n"
            ]
          },
          "metadata": {},
          "output_type": "display_data"
        },
        {
          "data": {
            "text/html": [
              "<pre style=\"white-space:pre;overflow-x:auto;line-height:normal;font-family:Menlo,'DejaVu Sans Mono',consolas,'Courier New',monospace\"><span style=\"font-weight: bold\"> Total params: </span><span style=\"color: #00af00; text-decoration-color: #00af00\">0</span> (0.00 B)\n",
              "</pre>\n"
            ],
            "text/plain": [
              "\u001b[1m Total params: \u001b[0m\u001b[38;5;34m0\u001b[0m (0.00 B)\n"
            ]
          },
          "metadata": {},
          "output_type": "display_data"
        },
        {
          "data": {
            "text/html": [
              "<pre style=\"white-space:pre;overflow-x:auto;line-height:normal;font-family:Menlo,'DejaVu Sans Mono',consolas,'Courier New',monospace\"><span style=\"font-weight: bold\"> Trainable params: </span><span style=\"color: #00af00; text-decoration-color: #00af00\">0</span> (0.00 B)\n",
              "</pre>\n"
            ],
            "text/plain": [
              "\u001b[1m Trainable params: \u001b[0m\u001b[38;5;34m0\u001b[0m (0.00 B)\n"
            ]
          },
          "metadata": {},
          "output_type": "display_data"
        },
        {
          "data": {
            "text/html": [
              "<pre style=\"white-space:pre;overflow-x:auto;line-height:normal;font-family:Menlo,'DejaVu Sans Mono',consolas,'Courier New',monospace\"><span style=\"font-weight: bold\"> Non-trainable params: </span><span style=\"color: #00af00; text-decoration-color: #00af00\">0</span> (0.00 B)\n",
              "</pre>\n"
            ],
            "text/plain": [
              "\u001b[1m Non-trainable params: \u001b[0m\u001b[38;5;34m0\u001b[0m (0.00 B)\n"
            ]
          },
          "metadata": {},
          "output_type": "display_data"
        }
      ],
      "source": [
        "# Create LSTM model\n",
        "from tensorflow.keras import layers\n",
        "import os\n",
        "\n",
        "# Embedding: https://www.tensorflow.org/tutorials/text/word_embeddings\n",
        "# Turns positive integers (indexes) into dense vectors of fixed size. (other approach could be one-hot-encoding)\n",
        "\n",
        "# Word embeddings give us a way to use an efficient, dense representation in which similar words have\n",
        "# a similar encoding. Importantly, you do not have to specify this encoding by hand. An embedding is a\n",
        "# dense vector of floating point values (the length of the vector is a parameter you specify).\n",
        "\n",
        "SEED = 42\n",
        "np.random.seed(SEED)\n",
        "tf.random.set_seed(SEED)\n",
        "\n",
        "# Force deterministic TensorFlow operations\n",
        "os.environ[\"TF_DETERMINISTIC_OPS\"] = \"1\"  # Ensures deterministic ops\n",
        "tf.config.experimental.enable_op_determinism()  # Forces deterministic execution (TF 2.9+)\n",
        "\n",
        "vocab_size = tokenizer.vocab_size\n",
        "\n",
        "model = keras.models.Sequential()\n",
        "model.add(layers.Embedding(vocab_size, 128))\n",
        "\n",
        "# The layer will take as input an integer matrix of size (batch, input_length),\n",
        "# and the largest integer (i.e. word index) in the input should be no larger than num_words (vocabulary size).\n",
        "# Now model.output_shape is (None, input_length, 32), where `None` is the batch dimension.\n",
        "\n",
        "\n",
        "model.add(layers.LSTM(64, dropout=0.2))\n",
        "model.add(layers.Dense(1, activation=\"sigmoid\"))\n",
        "\n",
        "model.summary()"
      ]
    },
    {
      "cell_type": "code",
      "execution_count": null,
      "metadata": {
        "id": "2aZ4Loq1vMLN"
      },
      "outputs": [],
      "source": [
        "loss = keras.losses.BinaryCrossentropy(from_logits=False)\n",
        "optim = keras.optimizers.Adam(learning_rate=0.01)\n",
        "metrics = [\"accuracy\"]\n",
        "\n",
        "model.compile(loss=loss, optimizer=optim, metrics=metrics)"
      ]
    },
    {
      "cell_type": "code",
      "execution_count": null,
      "metadata": {
        "colab": {
          "base_uri": "https://localhost:8080/"
        },
        "id": "mFV14kKcvRDq",
        "outputId": "318860a0-ae8f-40e1-e8c0-b4d6b485c81c"
      },
      "outputs": [
        {
          "name": "stdout",
          "output_type": "stream",
          "text": [
            "Epoch 1/3\n",
            "140/140 - 18s - 127ms/step - accuracy: 0.9984 - loss: 0.0064 - val_accuracy: 0.9946 - val_loss: 0.0191\n",
            "Epoch 2/3\n",
            "140/140 - 16s - 112ms/step - accuracy: 0.9998 - loss: 0.0021 - val_accuracy: 0.9955 - val_loss: 0.0141\n",
            "Epoch 3/3\n",
            "140/140 - 15s - 109ms/step - accuracy: 1.0000 - loss: 2.3998e-04 - val_accuracy: 0.9955 - val_loss: 0.0150\n"
          ]
        },
        {
          "data": {
            "text/plain": [
              "<keras.src.callbacks.history.History at 0x7c8a29394190>"
            ]
          },
          "execution_count": 72,
          "metadata": {},
          "output_type": "execute_result"
        }
      ],
      "source": [
        "# model.fit(tokens, train_df['label'], epochs=5, validation_data=(test_tokens, test_df['label']), verbose=2)\n",
        "X_train = train_tokens['input_ids']\n",
        "y_train = train_df['label']\n",
        "X_val = test_tokens['input_ids']\n",
        "y_val = test_df['label']\n",
        "\n",
        "X_train1 = train_tokens1['input_ids']\n",
        "y_train1 = train_df1['label']\n",
        "X_val1 = test_tokens1['input_ids']\n",
        "y_val1 = test_df1['label']\n",
        "\n",
        "X_train2 = train_tokens2['input_ids']\n",
        "y_train2 = train_df2['label']\n",
        "X_val2 = test_tokens2['input_ids']\n",
        "y_val2 = test_df2['label']\n",
        "\n",
        "X_val3 = test_tokens3['input_ids']\n",
        "y_val3 = test_df3['label']\n",
        "\n",
        "model.fit(X_train2, y_train2, epochs=3, validation_data=(X_val2, y_val2), verbose=2)"
      ]
    },
    {
      "cell_type": "code",
      "execution_count": null,
      "metadata": {
        "colab": {
          "base_uri": "https://localhost:8080/"
        },
        "id": "RKTufpR-vR5W",
        "outputId": "53f617be-0aa7-4fa2-ccec-27ec4c3fca1f"
      },
      "outputs": [
        {
          "name": "stdout",
          "output_type": "stream",
          "text": [
            "\u001b[1m35/35\u001b[0m \u001b[32m━━━━━━━━━━━━━━━━━━━━\u001b[0m\u001b[37m\u001b[0m \u001b[1m1s\u001b[0m 20ms/step\n"
          ]
        }
      ],
      "source": [
        "predictions = model.predict(X_val2)\n",
        "predictions = [1 if p > 0.5 else 0 for p in predictions]"
      ]
    },
    {
      "cell_type": "code",
      "execution_count": null,
      "metadata": {
        "id": "Cp_HvQM65V-s"
      },
      "outputs": [],
      "source": [
        "# Calculating the evaluation metrics\n",
        "from sklearn.metrics import accuracy_score, precision_score, recall_score, f1_score\n",
        "\n",
        "y_test= y_val2\n",
        "y_pred = predictions\n",
        "accuracy = accuracy_score(y_test, y_pred)\n",
        "precision = precision_score(y_test, y_pred)\n",
        "recall = recall_score(y_test, y_pred)\n",
        "f1 = f1_score(y_test, y_pred)"
      ]
    },
    {
      "cell_type": "code",
      "execution_count": null,
      "metadata": {
        "colab": {
          "base_uri": "https://localhost:8080/"
        },
        "id": "oBABTQ775roG",
        "outputId": "c1d2699c-c72b-4594-c85b-7b10362bf9c0"
      },
      "outputs": [
        {
          "name": "stdout",
          "output_type": "stream",
          "text": [
            "Accuracy: 0.9955357142857143\n",
            "Precision: 0.9964221824686941\n",
            "Recall: 0.9946428571428572\n",
            "F1-score: 0.9955317247542449\n"
          ]
        }
      ],
      "source": [
        "print('Accuracy:', accuracy)\n",
        "print('Precision:', precision)\n",
        "print('Recall:', recall)\n",
        "print('F1-score:', f1)"
      ]
    },
    {
      "cell_type": "code",
      "execution_count": null,
      "metadata": {
        "colab": {
          "base_uri": "https://localhost:8080/"
        },
        "id": "8plDFZvYUpfc",
        "outputId": "6a5bf50a-a51a-4d5c-be24-5358b4c0efb4"
      },
      "outputs": [
        {
          "name": "stdout",
          "output_type": "stream",
          "text": [
            "30522\n"
          ]
        }
      ],
      "source": [
        "print(vocab_size)"
      ]
    },
    {
      "cell_type": "code",
      "execution_count": null,
      "metadata": {
        "colab": {
          "base_uri": "https://localhost:8080/"
        },
        "id": "2Ljuu50-jJb7",
        "outputId": "dc18cc44-1b7f-4d60-c7f2-839e9616eb2a"
      },
      "outputs": [
        {
          "name": "stdout",
          "output_type": "stream",
          "text": [
            "Collecting optuna\n",
            "  Downloading optuna-4.3.0-py3-none-any.whl.metadata (17 kB)\n",
            "Collecting alembic>=1.5.0 (from optuna)\n",
            "  Downloading alembic-1.15.2-py3-none-any.whl.metadata (7.3 kB)\n",
            "Collecting colorlog (from optuna)\n",
            "  Downloading colorlog-6.9.0-py3-none-any.whl.metadata (10 kB)\n",
            "Requirement already satisfied: numpy in /usr/local/lib/python3.11/dist-packages (from optuna) (2.0.2)\n",
            "Requirement already satisfied: packaging>=20.0 in /usr/local/lib/python3.11/dist-packages (from optuna) (24.2)\n",
            "Requirement already satisfied: sqlalchemy>=1.4.2 in /usr/local/lib/python3.11/dist-packages (from optuna) (2.0.40)\n",
            "Requirement already satisfied: tqdm in /usr/local/lib/python3.11/dist-packages (from optuna) (4.67.1)\n",
            "Requirement already satisfied: PyYAML in /usr/local/lib/python3.11/dist-packages (from optuna) (6.0.2)\n",
            "Requirement already satisfied: Mako in /usr/lib/python3/dist-packages (from alembic>=1.5.0->optuna) (1.1.3)\n",
            "Requirement already satisfied: typing-extensions>=4.12 in /usr/local/lib/python3.11/dist-packages (from alembic>=1.5.0->optuna) (4.13.2)\n",
            "Requirement already satisfied: greenlet>=1 in /usr/local/lib/python3.11/dist-packages (from sqlalchemy>=1.4.2->optuna) (3.2.0)\n",
            "Downloading optuna-4.3.0-py3-none-any.whl (386 kB)\n",
            "\u001b[2K   \u001b[90m━━━━━━━━━━━━━━━━━━━━━━━━━━━━━━━━━━━━━━━━\u001b[0m \u001b[32m386.6/386.6 kB\u001b[0m \u001b[31m7.7 MB/s\u001b[0m eta \u001b[36m0:00:00\u001b[0m\n",
            "\u001b[?25hDownloading alembic-1.15.2-py3-none-any.whl (231 kB)\n",
            "\u001b[2K   \u001b[90m━━━━━━━━━━━━━━━━━━━━━━━━━━━━━━━━━━━━━━━━\u001b[0m \u001b[32m231.9/231.9 kB\u001b[0m \u001b[31m20.4 MB/s\u001b[0m eta \u001b[36m0:00:00\u001b[0m\n",
            "\u001b[?25hDownloading colorlog-6.9.0-py3-none-any.whl (11 kB)\n",
            "Installing collected packages: colorlog, alembic, optuna\n",
            "Successfully installed alembic-1.15.2 colorlog-6.9.0 optuna-4.3.0\n"
          ]
        }
      ],
      "source": [
        "!pip install optuna"
      ]
    },
    {
      "cell_type": "code",
      "execution_count": null,
      "metadata": {
        "colab": {
          "base_uri": "https://localhost:8080/"
        },
        "id": "Y33fWzq4hznC",
        "outputId": "42c08eb6-d451-4841-c33f-eac773d7588e"
      },
      "outputs": [
        {
          "name": "stderr",
          "output_type": "stream",
          "text": [
            "[I 2025-04-23 03:54:45,421] A new study created in memory with name: no-name-b1f49def-3107-4491-accb-bc5a685e3878\n",
            "[I 2025-04-23 03:55:01,271] Trial 0 finished with value: 0.699999988079071 and parameters: {'embedding_dim': 128, 'lstm_units': 32, 'dropout': 0.1, 'lr': 0.0001, 'epochs': 3}. Best is trial 0 with value: 0.699999988079071.\n",
            "[I 2025-04-23 03:55:18,396] Trial 1 finished with value: 0.956250011920929 and parameters: {'embedding_dim': 32, 'lstm_units': 64, 'dropout': 0.5, 'lr': 0.0001, 'epochs': 5}. Best is trial 1 with value: 0.956250011920929.\n",
            "[I 2025-04-23 03:55:30,857] Trial 2 finished with value: 0.699999988079071 and parameters: {'embedding_dim': 32, 'lstm_units': 64, 'dropout': 0.2, 'lr': 1e-05, 'epochs': 3}. Best is trial 1 with value: 0.956250011920929.\n",
            "[I 2025-04-23 03:56:41,467] Trial 3 finished with value: 0.809374988079071 and parameters: {'embedding_dim': 64, 'lstm_units': 64, 'dropout': 0.2, 'lr': 0.001, 'epochs': 3}. Best is trial 1 with value: 0.956250011920929.\n",
            "[I 2025-04-23 03:57:14,877] Trial 4 finished with value: 0.612500011920929 and parameters: {'embedding_dim': 32, 'lstm_units': 128, 'dropout': 0.4, 'lr': 1e-05, 'epochs': 3}. Best is trial 1 with value: 0.956250011920929.\n",
            "[I 2025-04-23 03:57:29,457] Trial 5 finished with value: 0.828125 and parameters: {'embedding_dim': 128, 'lstm_units': 32, 'dropout': 0.2, 'lr': 0.001, 'epochs': 3}. Best is trial 1 with value: 0.956250011920929.\n",
            "[I 2025-04-23 03:57:46,463] Trial 6 finished with value: 0.90625 and parameters: {'embedding_dim': 32, 'lstm_units': 64, 'dropout': 0.4, 'lr': 0.0001, 'epochs': 5}. Best is trial 1 with value: 0.956250011920929.\n",
            "[I 2025-04-23 03:58:03,277] Trial 7 finished with value: 0.9781249761581421 and parameters: {'embedding_dim': 128, 'lstm_units': 64, 'dropout': 0.2, 'lr': 0.01, 'epochs': 3}. Best is trial 7 with value: 0.9781249761581421.\n",
            "[I 2025-04-23 03:58:15,910] Trial 8 finished with value: 0.893750011920929 and parameters: {'embedding_dim': 32, 'lstm_units': 64, 'dropout': 0.4, 'lr': 0.001, 'epochs': 3}. Best is trial 7 with value: 0.9781249761581421.\n",
            "[I 2025-04-23 03:58:40,137] Trial 9 finished with value: 0.871874988079071 and parameters: {'embedding_dim': 32, 'lstm_units': 128, 'dropout': 0.2, 'lr': 0.001, 'epochs': 3}. Best is trial 7 with value: 0.9781249761581421.\n"
          ]
        },
        {
          "name": "stdout",
          "output_type": "stream",
          "text": [
            "Best parameters found:\n",
            "{'embedding_dim': 128, 'lstm_units': 64, 'dropout': 0.2, 'lr': 0.01, 'epochs': 3}\n"
          ]
        }
      ],
      "source": [
        "import optuna\n",
        "\n",
        "# Hyperparameter finetuning\n",
        "def objective(trial):\n",
        "    embedding_dim = trial.suggest_categorical(\"embedding_dim\", [32, 64, 128])\n",
        "    lstm_units = trial.suggest_categorical(\"lstm_units\", [32, 64, 128])\n",
        "    dropout_rate = trial.suggest_categorical(\"dropout\", [0.1, 0.2, 0.3, 0.4, 0.5])\n",
        "    learning_rate = trial.suggest_categorical(\"lr\", [1e-5, 1e-4, 1e-3, 1e-2])\n",
        "    epochs = trial.suggest_categorical(\"epochs\", [3, 5])\n",
        "\n",
        "    model = keras.Sequential([\n",
        "        layers.Embedding(input_dim=vocab_size, output_dim=embedding_dim),\n",
        "        layers.LSTM(lstm_units, dropout=dropout_rate),\n",
        "        layers.Dense(1, activation=\"sigmoid\")\n",
        "    ])\n",
        "\n",
        "    model.compile(\n",
        "        loss=keras.losses.BinaryCrossentropy(from_logits=False),\n",
        "        optimizer=keras.optimizers.Adam(learning_rate=learning_rate),\n",
        "        metrics=[\"accuracy\"]\n",
        "    )\n",
        "\n",
        "    history = model.fit(\n",
        "        X_train, y_train,\n",
        "        epochs=epochs,\n",
        "        batch_size=32,\n",
        "        validation_data=(X_val, y_val),\n",
        "        verbose=0\n",
        "    )\n",
        "\n",
        "    return history.history[\"val_accuracy\"][-1]\n",
        "\n",
        "# Run the study\n",
        "study = optuna.create_study(direction=\"maximize\")\n",
        "study.optimize(objective, n_trials=10)\n",
        "\n",
        "# Print the best parameters\n",
        "print(\"Best parameters found:\")\n",
        "print(study.best_trial.params)\n"
      ]
    }
  ],
  "metadata": {
    "colab": {
      "provenance": []
    },
    "kernelspec": {
      "display_name": "Python 3",
      "name": "python3"
    },
    "language_info": {
      "name": "python"
    }
  },
  "nbformat": 4,
  "nbformat_minor": 0
}
